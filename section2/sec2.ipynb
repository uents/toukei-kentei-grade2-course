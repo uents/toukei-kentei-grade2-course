{
 "cells": [
  {
   "cell_type": "code",
   "execution_count": 1,
   "metadata": {},
   "outputs": [],
   "source": [
    "import numpy as np\n",
    "import pandas as pd"
   ]
  },
  {
   "cell_type": "markdown",
   "metadata": {},
   "source": [
    "### 小テスト4"
   ]
  },
  {
   "cell_type": "code",
   "execution_count": 2,
   "metadata": {},
   "outputs": [],
   "source": [
    "# 問題1\n",
    "x = np.asarray([166.5, 168.2, 177.3, 164.9, 172.0, 165.4])"
   ]
  },
  {
   "cell_type": "code",
   "execution_count": 3,
   "metadata": {},
   "outputs": [
    {
     "data": {
      "text/plain": [
       "19.09"
      ]
     },
     "execution_count": 3,
     "metadata": {},
     "output_type": "execute_result"
    }
   ],
   "source": [
    "s2 = 1 / len(x) * ((x - x.mean()) ** 2).sum()\n",
    "round(s2, 2)"
   ]
  },
  {
   "cell_type": "code",
   "execution_count": 4,
   "metadata": {},
   "outputs": [
    {
     "data": {
      "text/plain": [
       "4.37"
      ]
     },
     "execution_count": 4,
     "metadata": {},
     "output_type": "execute_result"
    }
   ],
   "source": [
    "s = np.sqrt(s2)\n",
    "round(s, 2)"
   ]
  },
  {
   "cell_type": "code",
   "execution_count": 5,
   "metadata": {},
   "outputs": [
    {
     "data": {
      "text/plain": [
       "(170.45, 202.9799999999999)"
      ]
     },
     "execution_count": 5,
     "metadata": {},
     "output_type": "execute_result"
    }
   ],
   "source": [
    "# 問題2\n",
    "x = np.asarray([\n",
    "    166.5, 168.2, 177.3, 164.9,\n",
    "    172.0, 165.4, 179.2, 170.1,\n",
    "])\n",
    "\n",
    "mean = x.mean()\n",
    "square_error = ((x - mean) ** 2).sum()\n",
    "mean, square_error"
   ]
  },
  {
   "cell_type": "code",
   "execution_count": 6,
   "metadata": {},
   "outputs": [
    {
     "data": {
      "text/plain": [
       "25.37"
      ]
     },
     "execution_count": 6,
     "metadata": {},
     "output_type": "execute_result"
    }
   ],
   "source": [
    "s2 = 1 / len(x) * square_error\n",
    "round(s2, 2)"
   ]
  },
  {
   "cell_type": "code",
   "execution_count": 7,
   "metadata": {},
   "outputs": [
    {
     "data": {
      "text/plain": [
       "5.04"
      ]
     },
     "execution_count": 7,
     "metadata": {},
     "output_type": "execute_result"
    }
   ],
   "source": [
    "s = np.sqrt(s2)\n",
    "round(s, 2)"
   ]
  },
  {
   "cell_type": "code",
   "execution_count": 8,
   "metadata": {},
   "outputs": [],
   "source": [
    "# 問題3\n",
    "mean = 80\n",
    "std = 8"
   ]
  },
  {
   "cell_type": "code",
   "execution_count": 9,
   "metadata": {},
   "outputs": [
    {
     "data": {
      "text/plain": [
       "(1.5, -0.25)"
      ]
     },
     "execution_count": 9,
     "metadata": {},
     "output_type": "execute_result"
    }
   ],
   "source": [
    "(92 - mean) / std, (78 - mean) / std"
   ]
  },
  {
   "cell_type": "code",
   "execution_count": 10,
   "metadata": {},
   "outputs": [],
   "source": [
    "# 問題4\n",
    "mean = 60\n",
    "std = 15"
   ]
  },
  {
   "cell_type": "code",
   "execution_count": 11,
   "metadata": {},
   "outputs": [
    {
     "data": {
      "text/plain": [
       "0.25"
      ]
     },
     "execution_count": 11,
     "metadata": {},
     "output_type": "execute_result"
    }
   ],
   "source": [
    "cv = std / mean\n",
    "cv"
   ]
  },
  {
   "attachments": {},
   "cell_type": "markdown",
   "metadata": {},
   "source": [
    "### 小テスト5"
   ]
  },
  {
   "cell_type": "code",
   "execution_count": 12,
   "metadata": {},
   "outputs": [],
   "source": [
    "# 問題1\n",
    "x = np.asarray([\n",
    "    58, 66, 69, 71, 75, 77, 78, 80, 80, 83,\n",
    "    84, 86, 87, 87, 88, 90, 91, 93, 93, 94,\n",
    "    94, 96, 97\n",
    "])"
   ]
  },
  {
   "cell_type": "code",
   "execution_count": 13,
   "metadata": {},
   "outputs": [
    {
     "data": {
      "text/plain": [
       "(92.0, 77.5)"
      ]
     },
     "execution_count": 13,
     "metadata": {},
     "output_type": "execute_result"
    }
   ],
   "source": [
    "q75, q25 = np.percentile(x, [75, 25])\n",
    "q75, q25"
   ]
  },
  {
   "cell_type": "code",
   "execution_count": 14,
   "metadata": {},
   "outputs": [
    {
     "name": "stdout",
     "output_type": "stream",
     "text": [
      "範囲:  39\n",
      "四分位範囲:  14.5\n"
     ]
    }
   ],
   "source": [
    "print('範囲: ', x.max() - x.min())\n",
    "print('四分位範囲: ', q75 - q25)"
   ]
  },
  {
   "cell_type": "markdown",
   "metadata": {},
   "source": [
    "### 小テスト6"
   ]
  },
  {
   "cell_type": "code",
   "execution_count": 15,
   "metadata": {},
   "outputs": [
    {
     "data": {
      "text/plain": [
       "-0.3725"
      ]
     },
     "execution_count": 15,
     "metadata": {},
     "output_type": "execute_result"
    }
   ],
   "source": [
    "# 問題8\n",
    "s_xy = -27.4\n",
    "s_x = np.sqrt(63.2)\n",
    "s_y = np.sqrt(85.6)\n",
    "\n",
    "r_xy = s_xy / (s_x * s_y)\n",
    "\n",
    "round(r_xy, 4)"
   ]
  },
  {
   "attachments": {},
   "cell_type": "markdown",
   "metadata": {},
   "source": [
    "### 小テスト7"
   ]
  },
  {
   "cell_type": "code",
   "execution_count": 16,
   "metadata": {},
   "outputs": [],
   "source": [
    "# 問題3\n",
    "r_math_jp = 0.8051\n",
    "r_jp_sci = 0.7930\n",
    "r_sci_math = 0.9883"
   ]
  },
  {
   "cell_type": "code",
   "execution_count": 17,
   "metadata": {},
   "outputs": [
    {
     "data": {
      "text/plain": [
       "0.23"
      ]
     },
     "execution_count": 17,
     "metadata": {},
     "output_type": "execute_result"
    }
   ],
   "source": [
    "r = (r_math_jp - r_sci_math * r_jp_sci) / \\\n",
    "    (np.sqrt(1 - r_sci_math ** 2) * np.sqrt(1 - r_jp_sci ** 2))\n",
    "\n",
    "round(r, 2)\n"
   ]
  },
  {
   "attachments": {},
   "cell_type": "markdown",
   "metadata": {},
   "source": [
    "-> 算数と国語は擬相関の疑いが強い"
   ]
  },
  {
   "cell_type": "code",
   "execution_count": 18,
   "metadata": {},
   "outputs": [],
   "source": [
    "# 問題4\n",
    "r_math_jp = 0.8207\n",
    "r_jp_sci = 0.6794\n",
    "r_sci_math = 0.9305"
   ]
  },
  {
   "cell_type": "code",
   "execution_count": 19,
   "metadata": {},
   "outputs": [
    {
     "data": {
      "text/plain": [
       "-0.4"
      ]
     },
     "execution_count": 19,
     "metadata": {},
     "output_type": "execute_result"
    }
   ],
   "source": [
    "r = (r_jp_sci - r_math_jp * r_sci_math) / \\\n",
    "    (np.sqrt(1 - r_math_jp ** 2) * np.sqrt(1 - r_sci_math ** 2))\n",
    "\n",
    "round(r, 2)"
   ]
  },
  {
   "attachments": {},
   "cell_type": "markdown",
   "metadata": {},
   "source": [
    "-> 国語と理科には負の相関が見られる"
   ]
  },
  {
   "attachments": {},
   "cell_type": "markdown",
   "metadata": {},
   "source": [
    "### 小テスト10"
   ]
  },
  {
   "cell_type": "code",
   "execution_count": 20,
   "metadata": {},
   "outputs": [
    {
     "data": {
      "text/plain": [
       "0.5"
      ]
     },
     "execution_count": 20,
     "metadata": {},
     "output_type": "execute_result"
    }
   ],
   "source": [
    "# 問題3\n",
    "s_e = 5\n",
    "s_y = 10\n",
    "s_r = s_y - s_e\n",
    "\n",
    "r2 = s_r / s_y\n",
    "r2"
   ]
  },
  {
   "attachments": {},
   "cell_type": "markdown",
   "metadata": {},
   "source": [
    "### 小テスト11"
   ]
  },
  {
   "cell_type": "code",
   "execution_count": 21,
   "metadata": {},
   "outputs": [
    {
     "data": {
      "text/plain": [
       "-0.262"
      ]
     },
     "execution_count": 21,
     "metadata": {},
     "output_type": "execute_result"
    }
   ],
   "source": [
    "# 問題1\n",
    "y_a_t4 = 13359\n",
    "y_a_t5 = 13324\n",
    "rate = (y_a_t5 - y_a_t4) / y_a_t4\n",
    "round(rate * 100, 4)"
   ]
  },
  {
   "cell_type": "code",
   "execution_count": 22,
   "metadata": {},
   "outputs": [
    {
     "data": {
      "text/plain": [
       "-0.4755"
      ]
     },
     "execution_count": 22,
     "metadata": {},
     "output_type": "execute_result"
    }
   ],
   "source": [
    "y_b_t4 = 158988\n",
    "y_b_t5 = 158232\n",
    "rate = (y_b_t5 - y_b_t4) / y_b_t4\n",
    "round(rate * 100, 4)"
   ]
  },
  {
   "cell_type": "code",
   "execution_count": 23,
   "metadata": {},
   "outputs": [
    {
     "data": {
      "text/plain": [
       "99.8"
      ]
     },
     "execution_count": 23,
     "metadata": {},
     "output_type": "execute_result"
    }
   ],
   "source": [
    "# 問題2\n",
    "y_a_t0 = 13458\n",
    "y_a_t5 = 13324\n",
    "r_a_g = (y_a_t5 / y_a_t0) ** (1/5)\n",
    "round(r_a_g * 100, 1)"
   ]
  },
  {
   "cell_type": "code",
   "execution_count": 24,
   "metadata": {},
   "outputs": [
    {
     "data": {
      "text/plain": [
       "13324"
      ]
     },
     "execution_count": 24,
     "metadata": {},
     "output_type": "execute_result"
    }
   ],
   "source": [
    "# r_g から y_t5 を求め直す\n",
    "round(y_a_t0 * (r_a_g ** 5))"
   ]
  },
  {
   "cell_type": "code",
   "execution_count": 25,
   "metadata": {},
   "outputs": [
    {
     "data": {
      "text/plain": [
       "99.8"
      ]
     },
     "execution_count": 25,
     "metadata": {},
     "output_type": "execute_result"
    }
   ],
   "source": [
    "y_b_t0 = 159824\n",
    "y_b_t5 = 158282\n",
    "r_b_g = (y_b_t5 / y_b_t0) ** (1/5)\n",
    "round(r_b_g * 100, 1)"
   ]
  },
  {
   "cell_type": "code",
   "execution_count": 26,
   "metadata": {},
   "outputs": [
    {
     "data": {
      "text/plain": [
       "158282"
      ]
     },
     "execution_count": 26,
     "metadata": {},
     "output_type": "execute_result"
    }
   ],
   "source": [
    "# r_g から y_t5 を求め直す\n",
    "round(y_b_t0 * (r_b_g ** 5))"
   ]
  },
  {
   "cell_type": "code",
   "execution_count": 27,
   "metadata": {},
   "outputs": [
    {
     "data": {
      "text/plain": [
       "99.51"
      ]
     },
     "execution_count": 27,
     "metadata": {},
     "output_type": "execute_result"
    }
   ],
   "source": [
    "# 問題3\n",
    "y_a_s = 13390\n",
    "y_a_t = 13324\n",
    "q_a_t = y_a_t * 100 / y_a_s\n",
    "round(q_a_t, 2)"
   ]
  },
  {
   "cell_type": "code",
   "execution_count": 28,
   "metadata": {},
   "outputs": [
    {
     "data": {
      "text/plain": [
       "98.98"
      ]
     },
     "execution_count": 28,
     "metadata": {},
     "output_type": "execute_result"
    }
   ],
   "source": [
    "y_b_s = 159855\n",
    "y_b_t = 158232\n",
    "q_b_t = y_b_t * 100 / y_b_s\n",
    "round(q_b_t, 2)"
   ]
  },
  {
   "cell_type": "code",
   "execution_count": 29,
   "metadata": {},
   "outputs": [
    {
     "data": {
      "text/plain": [
       "1.063"
      ]
     },
     "execution_count": 29,
     "metadata": {},
     "output_type": "execute_result"
    }
   ],
   "source": [
    "# 問題5\n",
    "p01 = 500\n",
    "q01 = 1200\n",
    "p02 = 300\n",
    "q02 = 2500\n",
    "\n",
    "pt1 = 550\n",
    "qt1 = 1000\n",
    "pt2 = 310\n",
    "qt2 = 2400\n",
    "\n",
    "#print(pt1 * q01 + pt2 * q02)\n",
    "#print(p01 * q01 + p02 * q02)\n",
    "\n",
    "def laspeyres(pt1, pt2, p01, p02, q01, q02):\n",
    "    l = (pt1 * q01 + pt2 * q02) / (p01 * q01 + p02 * q02)\n",
    "    return round(l, 4)\n",
    "\n",
    "laspeyres(pt1, pt2, p01, p02, q01, q02)"
   ]
  },
  {
   "cell_type": "code",
   "execution_count": 30,
   "metadata": {},
   "outputs": [
    {
     "data": {
      "text/plain": [
       "1.063"
      ]
     },
     "execution_count": 30,
     "metadata": {},
     "output_type": "execute_result"
    }
   ],
   "source": [
    "w1 = p01 * q01\n",
    "w2 = p02 * q02\n",
    "\n",
    "l = ((w1 * pt1 / p01) + (w2 * pt2 / p02)) / (w1 + w2)\n",
    "round(l, 4)"
   ]
  },
  {
   "cell_type": "code",
   "execution_count": 31,
   "metadata": {},
   "outputs": [
    {
     "data": {
      "text/plain": [
       "0.9025"
      ]
     },
     "execution_count": 31,
     "metadata": {},
     "output_type": "execute_result"
    }
   ],
   "source": [
    "# 問題2\n",
    "p01 = 800\n",
    "q01 = 3000\n",
    "p02 = 400\n",
    "q02 = 4000\n",
    "pt1 = 790\n",
    "\n",
    "laspeyres(pt1, pt2, p01, p02, q01, q02)"
   ]
  },
  {
   "attachments": {},
   "cell_type": "markdown",
   "metadata": {},
   "source": [
    "### 小テスト12"
   ]
  },
  {
   "cell_type": "code",
   "execution_count": 32,
   "metadata": {},
   "outputs": [
    {
     "data": {
      "text/plain": [
       "-0.1686"
      ]
     },
     "execution_count": 32,
     "metadata": {},
     "output_type": "execute_result"
    }
   ],
   "source": [
    "# 問題2\n",
    "c_1 = -155.98\n",
    "c_0 = 925.29\n",
    "\n",
    "r_1 = c_1 / c_0\n",
    "round(r_1, 4)"
   ]
  },
  {
   "cell_type": "code",
   "execution_count": 33,
   "metadata": {},
   "outputs": [
    {
     "data": {
      "text/plain": [
       "0.7509"
      ]
     },
     "execution_count": 33,
     "metadata": {},
     "output_type": "execute_result"
    }
   ],
   "source": [
    "# 問題3\n",
    "c_6 = 694.79\n",
    "c_0 = 925.29\n",
    "\n",
    "r_6 = c_6 / c_0\n",
    "round(r_6, 4)"
   ]
  },
  {
   "cell_type": "markdown",
   "metadata": {},
   "source": [
    "## 小テスト13"
   ]
  },
  {
   "cell_type": "code",
   "execution_count": 34,
   "metadata": {},
   "outputs": [
    {
     "data": {
      "text/plain": [
       "[{'ゲーム習慣': 'あり', '視力低下': 'あり', '割合': 0.6666666666666666},\n",
       " {'ゲーム習慣': 'あり', '視力低下': 'なし', '割合': 0.3333333333333333},\n",
       " {'ゲーム習慣': 'なし', '視力低下': 'あり', '割合': 0.2857142857142857},\n",
       " {'ゲーム習慣': 'なし', '視力低下': 'なし', '割合': 0.7142857142857143}]"
      ]
     },
     "execution_count": 34,
     "metadata": {},
     "output_type": "execute_result"
    }
   ],
   "source": [
    "# 問題1\n",
    "dataset = [\n",
    "    dict(ゲーム習慣='あり', 視力低下='あり', 割合=20/30),\n",
    "    dict(ゲーム習慣='あり', 視力低下='なし', 割合=10/30),\n",
    "    dict(ゲーム習慣='なし', 視力低下='あり', 割合=20/70),\n",
    "    dict(ゲーム習慣='なし', 視力低下='なし', 割合=50/70),\n",
    "]\n",
    "dataset"
   ]
  },
  {
   "cell_type": "code",
   "execution_count": 35,
   "metadata": {},
   "outputs": [
    {
     "data": {
      "text/html": [
       "<div>\n",
       "<style scoped>\n",
       "    .dataframe tbody tr th:only-of-type {\n",
       "        vertical-align: middle;\n",
       "    }\n",
       "\n",
       "    .dataframe tbody tr th {\n",
       "        vertical-align: top;\n",
       "    }\n",
       "\n",
       "    .dataframe thead th {\n",
       "        text-align: right;\n",
       "    }\n",
       "</style>\n",
       "<table border=\"1\" class=\"dataframe\">\n",
       "  <thead>\n",
       "    <tr style=\"text-align: right;\">\n",
       "      <th></th>\n",
       "      <th>ゲーム習慣</th>\n",
       "      <th>視力低下</th>\n",
       "      <th>割合</th>\n",
       "    </tr>\n",
       "  </thead>\n",
       "  <tbody>\n",
       "    <tr>\n",
       "      <th>0</th>\n",
       "      <td>あり</td>\n",
       "      <td>あり</td>\n",
       "      <td>0.666667</td>\n",
       "    </tr>\n",
       "    <tr>\n",
       "      <th>1</th>\n",
       "      <td>あり</td>\n",
       "      <td>なし</td>\n",
       "      <td>0.333333</td>\n",
       "    </tr>\n",
       "    <tr>\n",
       "      <th>2</th>\n",
       "      <td>なし</td>\n",
       "      <td>あり</td>\n",
       "      <td>0.285714</td>\n",
       "    </tr>\n",
       "    <tr>\n",
       "      <th>3</th>\n",
       "      <td>なし</td>\n",
       "      <td>なし</td>\n",
       "      <td>0.714286</td>\n",
       "    </tr>\n",
       "  </tbody>\n",
       "</table>\n",
       "</div>"
      ],
      "text/plain": [
       "  ゲーム習慣 視力低下        割合\n",
       "0    あり   あり  0.666667\n",
       "1    あり   なし  0.333333\n",
       "2    なし   あり  0.285714\n",
       "3    なし   なし  0.714286"
      ]
     },
     "execution_count": 35,
     "metadata": {},
     "output_type": "execute_result"
    }
   ],
   "source": [
    "df = pd.DataFrame(dataset)\n",
    "#df = df.set_index(['ゲーム習慣', '視力低下']).unstack()\n",
    "df"
   ]
  },
  {
   "cell_type": "code",
   "execution_count": 36,
   "metadata": {},
   "outputs": [
    {
     "data": {
      "text/plain": [
       "5.0"
      ]
     },
     "execution_count": 36,
     "metadata": {},
     "output_type": "execute_result"
    }
   ],
   "source": [
    "cause = 'ゲーム習慣'\n",
    "effect = '視力低下'\n",
    "\n",
    "A = df[(df[cause] == 'あり') & (df[effect] == 'あり')]['割合'].values[0]\n",
    "B = df[(df[cause] == 'あり') & (df[effect] == 'なし')]['割合'].values[0]\n",
    "C = df[(df[cause] == 'なし') & (df[effect] == 'あり')]['割合'].values[0]\n",
    "D = df[(df[cause] == 'なし') & (df[effect] == 'なし')]['割合'].values[0]\n",
    "\n",
    "rate = (A/B)/(C/D)\n",
    "round(rate, 2)"
   ]
  },
  {
   "cell_type": "code",
   "execution_count": 37,
   "metadata": {},
   "outputs": [
    {
     "data": {
      "text/html": [
       "<div>\n",
       "<style scoped>\n",
       "    .dataframe tbody tr th:only-of-type {\n",
       "        vertical-align: middle;\n",
       "    }\n",
       "\n",
       "    .dataframe tbody tr th {\n",
       "        vertical-align: top;\n",
       "    }\n",
       "\n",
       "    .dataframe thead th {\n",
       "        text-align: right;\n",
       "    }\n",
       "</style>\n",
       "<table border=\"1\" class=\"dataframe\">\n",
       "  <thead>\n",
       "    <tr style=\"text-align: right;\">\n",
       "      <th></th>\n",
       "      <th>飼育経験</th>\n",
       "      <th>花粉症</th>\n",
       "      <th>割合</th>\n",
       "    </tr>\n",
       "  </thead>\n",
       "  <tbody>\n",
       "    <tr>\n",
       "      <th>0</th>\n",
       "      <td>あり</td>\n",
       "      <td>あり</td>\n",
       "      <td>0.187500</td>\n",
       "    </tr>\n",
       "    <tr>\n",
       "      <th>1</th>\n",
       "      <td>なし</td>\n",
       "      <td>あり</td>\n",
       "      <td>0.812500</td>\n",
       "    </tr>\n",
       "    <tr>\n",
       "      <th>2</th>\n",
       "      <td>あり</td>\n",
       "      <td>なし</td>\n",
       "      <td>0.333333</td>\n",
       "    </tr>\n",
       "    <tr>\n",
       "      <th>3</th>\n",
       "      <td>なし</td>\n",
       "      <td>なし</td>\n",
       "      <td>0.666667</td>\n",
       "    </tr>\n",
       "  </tbody>\n",
       "</table>\n",
       "</div>"
      ],
      "text/plain": [
       "  飼育経験 花粉症        割合\n",
       "0   あり  あり  0.187500\n",
       "1   なし  あり  0.812500\n",
       "2   あり  なし  0.333333\n",
       "3   なし  なし  0.666667"
      ]
     },
     "execution_count": 37,
     "metadata": {},
     "output_type": "execute_result"
    }
   ],
   "source": [
    "# 問題2\n",
    "dataset = [\n",
    "    dict(飼育経験='あり', 花粉症='あり', 割合=12/64),\n",
    "    dict(飼育経験='なし', 花粉症='あり', 割合=52/64),\n",
    "    dict(飼育経験='あり', 花粉症='なし', 割合=12/36),\n",
    "    dict(飼育経験='なし', 花粉症='なし', 割合=24/36),\n",
    "]\n",
    "\n",
    "df = pd.DataFrame(dataset)\n",
    "df"
   ]
  },
  {
   "cell_type": "code",
   "execution_count": 38,
   "metadata": {},
   "outputs": [
    {
     "data": {
      "text/plain": [
       "0.46"
      ]
     },
     "execution_count": 38,
     "metadata": {},
     "output_type": "execute_result"
    }
   ],
   "source": [
    "cause = '飼育経験'\n",
    "effect = '花粉症'\n",
    "\n",
    "A = df[(df[cause] == 'あり') & (df[effect] == 'あり')]['割合'].values[0]\n",
    "B = df[(df[cause] == 'あり') & (df[effect] == 'なし')]['割合'].values[0]\n",
    "C = df[(df[cause] == 'なし') & (df[effect] == 'あり')]['割合'].values[0]\n",
    "D = df[(df[cause] == 'なし') & (df[effect] == 'なし')]['割合'].values[0]\n",
    "\n",
    "rate = (A/B)/(C/D)\n",
    "round(rate, 2)"
   ]
  },
  {
   "cell_type": "code",
   "execution_count": null,
   "metadata": {},
   "outputs": [],
   "source": []
  }
 ],
 "metadata": {
  "kernelspec": {
   "display_name": "Python 3.9.11 64-bit ('3.9.11')",
   "language": "python",
   "name": "python3"
  },
  "language_info": {
   "codemirror_mode": {
    "name": "ipython",
    "version": 3
   },
   "file_extension": ".py",
   "mimetype": "text/x-python",
   "name": "python",
   "nbconvert_exporter": "python",
   "pygments_lexer": "ipython3",
   "version": "3.9.11"
  },
  "orig_nbformat": 4,
  "vscode": {
   "interpreter": {
    "hash": "63e65fcfd8432d038522161e762497834ba1fb3f22e7b9da296f461b80252715"
   }
  }
 },
 "nbformat": 4,
 "nbformat_minor": 2
}
